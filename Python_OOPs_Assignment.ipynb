{
  "nbformat": 4,
  "nbformat_minor": 0,
  "metadata": {
    "colab": {
      "provenance": []
    },
    "kernelspec": {
      "name": "python3",
      "display_name": "Python 3"
    },
    "language_info": {
      "name": "python"
    }
  },
  "cells": [
    {
      "cell_type": "markdown",
      "source": [
        "# **Python OOPs Questions:-**\n",
        "\n",
        "\n",
        "\n",
        "\n",
        "---\n",
        "\n",
        "\n",
        "\n",
        "\n"
      ],
      "metadata": {
        "id": "R9C4gJWPri1U"
      }
    },
    {
      "cell_type": "markdown",
      "source": [
        "1. What is Object-Oriented Programming (OOP)?\n",
        "    - Object-Oriented Programming (OOP) is a programming paradigm based on the concept of \"objects,\" which can contain data (attributes) and code (methods). It emphasizes principles like encapsulation, inheritance, polymorphism, and abstraction to improve code reusability and modularity.\n",
        "\n",
        "2. What is a class in OOP?\n",
        "    - A class in OOP is a blueprint for creating objects. It defines attributes (variables) and behaviors (methods) that the objects of the class will have.\n",
        "\n",
        "    "
      ],
      "metadata": {
        "id": "N6MU3QnmsIu3"
      }
    },
    {
      "cell_type": "code",
      "source": [
        "# Example:\n",
        "class Car:\n",
        "    def __init__(self, brand, model):\n",
        "        self.brand = brand\n",
        "        self.model = model\n"
      ],
      "metadata": {
        "id": "dwCR3Jd9tbJT"
      },
      "execution_count": 1,
      "outputs": []
    },
    {
      "cell_type": "markdown",
      "source": [
        "3. What is an object in OOP?\n",
        "    - An object is an instance of a class that has its own unique values for the attributes defined in the class."
      ],
      "metadata": {
        "id": "7K5rxeQ2tlVX"
      }
    },
    {
      "cell_type": "code",
      "source": [
        "# Example:\n",
        "car1 = Car(\"Toyota\", \"Corolla\")\n"
      ],
      "metadata": {
        "id": "nSApIqaqttFp"
      },
      "execution_count": 2,
      "outputs": []
    },
    {
      "cell_type": "markdown",
      "source": [
        "4. What is the difference between abstraction and encapsulation?\n",
        "    - Abstraction hides implementation details and shows only necessary features.\n",
        "    - Encapsulation restricts direct access to certain data and methods, protecting object integrity."
      ],
      "metadata": {
        "id": "-p97MrHlt0uq"
      }
    },
    {
      "cell_type": "code",
      "source": [
        "# Example of Encapsulation:\n",
        "class BankAccount:\n",
        "    def __init__(self, balance):\n",
        "        self.__balance = balance  # Private variable\n",
        "\n",
        "    def get_balance(self):\n",
        "        return self.__balance\n"
      ],
      "metadata": {
        "id": "3HgQt7zduB7D"
      },
      "execution_count": 3,
      "outputs": []
    },
    {
      "cell_type": "markdown",
      "source": [
        "5. What are dunder methods in Python?\n",
        "    - Dunder (double underscore) methods, also called magic methods, are special methods in Python that have double underscores before and after their names, like __init__ and __str__."
      ],
      "metadata": {
        "id": "wPAIQ8oSuQGD"
      }
    },
    {
      "cell_type": "code",
      "source": [
        "# Example:\n",
        "class Person:\n",
        "    def __init__(self, name):\n",
        "        self.name = name\n",
        "\n",
        "    def __str__(self):\n",
        "        return f\"Person: {self.name}\"\n"
      ],
      "metadata": {
        "id": "OI4JBLuXubJ_"
      },
      "execution_count": 4,
      "outputs": []
    },
    {
      "cell_type": "markdown",
      "source": [
        "6. Explain the concept of inheritance in OOP?\n",
        "    - Inheritance allows a class (child class) to inherit attributes and methods from another class (parent class), enabling code reusability."
      ],
      "metadata": {
        "id": "4_dqvBCLuhQw"
      }
    },
    {
      "cell_type": "code",
      "source": [
        "# Example:\n",
        "class Animal:\n",
        "    def speak(self):\n",
        "        return \"Animal speaks\"\n",
        "\n",
        "class Dog(Animal):\n",
        "    def speak(self):\n",
        "        return \"Bark!\"\n"
      ],
      "metadata": {
        "id": "2N7mCOeJuqgz"
      },
      "execution_count": 5,
      "outputs": []
    },
    {
      "cell_type": "markdown",
      "source": [
        "7. What is polymorphism in OOP?\n",
        "    - Polymorphism allows the same method to have different implementations depending on the object that calls it."
      ],
      "metadata": {
        "id": "Vq6Ds9VKuzq6"
      }
    },
    {
      "cell_type": "code",
      "source": [
        "# Example:\n",
        "class Bird:\n",
        "    def fly(self):\n",
        "        return \"Bird can fly\"\n",
        "\n",
        "class Sparrow(Bird):\n",
        "    def fly(self):\n",
        "        return \"Sparrow flies fast\"\n",
        "\n",
        "class Penguin(Bird):\n",
        "    def fly(self):\n",
        "        return \"Penguins cannot fly\"\n"
      ],
      "metadata": {
        "id": "zJl5spzBu1lf"
      },
      "execution_count": 6,
      "outputs": []
    },
    {
      "cell_type": "markdown",
      "source": [
        "8. How is encapsulation achieved in Python?\n",
        "    - Encapsulation is achieved using private (__var), protected (_var), and public variables."
      ],
      "metadata": {
        "id": "bK1FvfREu6CU"
      }
    },
    {
      "cell_type": "code",
      "source": [
        "# Example:\n",
        "class Car:\n",
        "    def __init__(self, model):\n",
        "        self.__model = model  # Private attribute\n",
        "\n",
        "    def get_model(self):\n",
        "        return self.__model\n"
      ],
      "metadata": {
        "id": "_wkJn29PvA1p"
      },
      "execution_count": null,
      "outputs": []
    },
    {
      "cell_type": "markdown",
      "source": [
        "9. What is a constructor in Python?\n",
        "    - A constructor is a special method (__init__) that gets called when an object is created."
      ],
      "metadata": {
        "id": "XS4R12tUvE0F"
      }
    },
    {
      "cell_type": "code",
      "source": [
        "# Example:\n",
        "class Person:\n",
        "    def __init__(self, name):\n",
        "        self.name = name\n"
      ],
      "metadata": {
        "id": "Bh3sCwS6vJXO"
      },
      "execution_count": 7,
      "outputs": []
    },
    {
      "cell_type": "markdown",
      "source": [
        "10. What are class and static methods in Python?\n",
        "    - Class Method (@classmethod) operates on class variables and takes cls as a parameter.\n",
        "    - Static Method (@staticmethod) does not depend on class or instance attributes."
      ],
      "metadata": {
        "id": "swN4Vso7vOcf"
      }
    },
    {
      "cell_type": "code",
      "source": [
        "# Example:\n",
        "class MathOperations:\n",
        "    @classmethod\n",
        "    def add(cls, a, b):\n",
        "        return a + b\n",
        "\n",
        "    @staticmethod\n",
        "    def multiply(a, b):\n",
        "        return a * b\n"
      ],
      "metadata": {
        "id": "cMKBTerbvYib"
      },
      "execution_count": 8,
      "outputs": []
    },
    {
      "cell_type": "markdown",
      "source": [
        "11. What is method overloading in Python?\n",
        "    - Python does not support traditional method overloading. However, we can achieve similar functionality using default arguments or *args."
      ],
      "metadata": {
        "id": "kHag1I7w613b"
      }
    },
    {
      "cell_type": "code",
      "source": [
        "# Example:\n",
        "class Math:\n",
        "    def add(self, a, b, c=0):\n",
        "        return a + b + c\n"
      ],
      "metadata": {
        "id": "RrqJmrjE6-ZJ"
      },
      "execution_count": null,
      "outputs": []
    },
    {
      "cell_type": "markdown",
      "source": [
        "12. What is method overriding in OOP?\n",
        "    - Method overriding occurs when a child class provides a specific implementation of a method already defined in the parent class.\n",
        "\n"
      ],
      "metadata": {
        "id": "UB-Qc1su7Evg"
      }
    },
    {
      "cell_type": "code",
      "source": [
        "# Example:\n",
        "class Animal:\n",
        "    def speak(self):\n",
        "        return \"Some sound\"\n",
        "\n",
        "class Dog(Animal):\n",
        "    def speak(self):\n",
        "        return \"Bark!\"\n"
      ],
      "metadata": {
        "id": "TXsaIjXC7J0I"
      },
      "execution_count": 9,
      "outputs": []
    },
    {
      "cell_type": "markdown",
      "source": [
        "13. What is a property decorator in Python?\n",
        "    - A property decorator (@property) allows us to define a method that can be accessed like an attribute."
      ],
      "metadata": {
        "id": "ZSSVOPgI7OWd"
      }
    },
    {
      "cell_type": "code",
      "source": [
        "# Example:\n",
        "class Person:\n",
        "    def __init__(self, name):\n",
        "        self._name = name\n",
        "\n",
        "    @property\n",
        "    def name(self):\n",
        "        return self._name\n"
      ],
      "metadata": {
        "id": "Cq7s5bmx7aTO"
      },
      "execution_count": 10,
      "outputs": []
    },
    {
      "cell_type": "markdown",
      "source": [
        "14. Why is polymorphism important in OOP?\n",
        "    - Polymorphism improves code flexibility and reusability by allowing the same method name to behave differently based on the object."
      ],
      "metadata": {
        "id": "gaOfA66P7g7U"
      }
    },
    {
      "cell_type": "code",
      "source": [
        "# Example:\n",
        "def animal_sound(animal):\n",
        "    return animal.speak()\n"
      ],
      "metadata": {
        "id": "W8InoSL57izU"
      },
      "execution_count": 11,
      "outputs": []
    },
    {
      "cell_type": "markdown",
      "source": [
        "15. What is an abstract class in Python?\n",
        "    - An abstract class cannot be instantiated and contains at least one abstract method."
      ],
      "metadata": {
        "id": "LfpCR1Iq7oFI"
      }
    },
    {
      "cell_type": "code",
      "source": [
        "# Example:\n",
        "from abc import ABC, abstractmethod\n",
        "\n",
        "class Shape(ABC):\n",
        "    @abstractmethod\n",
        "    def area(self):\n",
        "        pass\n"
      ],
      "metadata": {
        "id": "xrjOSL7c7sb_"
      },
      "execution_count": 12,
      "outputs": []
    },
    {
      "cell_type": "markdown",
      "source": [
        "16. What are the advantages of OOP?\n",
        "\n",
        "    - Code reusability (through inheritance)\n",
        "    - Modularity (code is organized into classes)\n",
        "    - Encapsulation (data hiding for security)\n",
        "    - Polymorphism (same interface, multiple behaviors)\n",
        "    - Abstraction (hides complex implementation details)\n",
        "\n",
        "17. What is the difference between a class variable and an instance variable?\n",
        "    - Class Variable: Shared across all instances of a class.\n",
        "    - Instance Variable: Unique to each instance."
      ],
      "metadata": {
        "id": "WOBGVb8h7xUR"
      }
    },
    {
      "cell_type": "code",
      "source": [
        "# Example:\n",
        "class Car:\n",
        "    wheels = 4  # Class variable\n",
        "\n",
        "    def __init__(self, model):\n",
        "        self.model = model  # Instance variable\n"
      ],
      "metadata": {
        "id": "lhsGQNB38J1U"
      },
      "execution_count": 13,
      "outputs": []
    },
    {
      "cell_type": "markdown",
      "source": [
        "18. What is multiple inheritance in Python?\n",
        "    - Multiple inheritance allows a class to inherit from more than one parent class."
      ],
      "metadata": {
        "id": "0sE29Esj8Ri7"
      }
    },
    {
      "cell_type": "code",
      "source": [
        "# Example:\n",
        "class A:\n",
        "    def method_A(self):\n",
        "        return \"A method\"\n",
        "\n",
        "class B:\n",
        "    def method_B(self):\n",
        "        return \"B method\"\n",
        "\n",
        "class C(A, B):\n",
        "    pass\n"
      ],
      "metadata": {
        "id": "2vRh5SkV8Vhg"
      },
      "execution_count": 14,
      "outputs": []
    },
    {
      "cell_type": "markdown",
      "source": [
        "19. Explain the purpose of __str__ and __repr__ methods in Python?\n",
        "    - __str__ returns a readable string representation of an object.\n",
        "    - __repr__ returns a detailed, unambiguous string representation for debugging."
      ],
      "metadata": {
        "id": "nwa-QNqw8Z-h"
      }
    },
    {
      "cell_type": "code",
      "source": [
        "# Example:\n",
        "class Person:\n",
        "    def __init__(self, name):\n",
        "        self.name = name\n",
        "\n",
        "    def __str__(self):\n",
        "        return f\"Person: {self.name}\"\n",
        "\n",
        "    def __repr__(self):\n",
        "        return f\"Person('{self.name}')\"\n"
      ],
      "metadata": {
        "id": "zKYxCs4h8k3N"
      },
      "execution_count": 15,
      "outputs": []
    },
    {
      "cell_type": "markdown",
      "source": [
        "20. What is the significance of the super() function in Python?\n",
        "    - The super() function is used to call methods from a parent class in a child class."
      ],
      "metadata": {
        "id": "ZY1rRl4K8oPA"
      }
    },
    {
      "cell_type": "code",
      "source": [
        "# Example:\n",
        "class Parent:\n",
        "    def show(self):\n",
        "        return \"Parent method\"\n",
        "\n",
        "class Child(Parent):\n",
        "    def show(self):\n",
        "        return super().show() + \" overridden in Child\"\n"
      ],
      "metadata": {
        "id": "F--7WR7y8ssz"
      },
      "execution_count": 16,
      "outputs": []
    },
    {
      "cell_type": "markdown",
      "source": [
        "21. What is the significance of the __del__ method in Python?\n",
        "    - The __del__ method is a destructor that gets called when an object is deleted or goes out of scope."
      ],
      "metadata": {
        "id": "686owW7z8wdw"
      }
    },
    {
      "cell_type": "code",
      "source": [
        "# Example:\n",
        "class Sample:\n",
        "    def __del__(self):\n",
        "        print(\"Object deleted\")\n"
      ],
      "metadata": {
        "id": "rcDbFRv080bF"
      },
      "execution_count": null,
      "outputs": []
    },
    {
      "cell_type": "markdown",
      "source": [
        "22. What is the difference between @staticmethod and @classmethod in Python?\n",
        "    - @staticmethod: Does not access class or instance attributes.\n",
        "    - @classmethod: Works with class-level attributes."
      ],
      "metadata": {
        "id": "4JB3rbiX87no"
      }
    },
    {
      "cell_type": "code",
      "source": [
        "# Example\n",
        "class Example:\n",
        "    @staticmethod\n",
        "    def static_method():\n",
        "        return \"Static Method\"\n",
        "\n",
        "    @classmethod\n",
        "    def class_method(cls):\n",
        "        return \"Class Method\"\n"
      ],
      "metadata": {
        "id": "Pugtrn3t9EEE"
      },
      "execution_count": 17,
      "outputs": []
    },
    {
      "cell_type": "markdown",
      "source": [
        "23. How does polymorphism work in Python with inheritance?\n",
        "    - Polymorphism allows different classes to have methods with the same name but different implementations."
      ],
      "metadata": {
        "id": "wb_5tHiW9HBZ"
      }
    },
    {
      "cell_type": "code",
      "source": [
        "# Example:\n",
        "class Animal:\n",
        "    def speak(self):\n",
        "        return \"Some sound\"\n",
        "\n",
        "class Dog(Animal):\n",
        "    def speak(self):\n",
        "        return \"Bark!\"\n",
        "\n",
        "class Cat(Animal):\n",
        "    def speak(self):\n",
        "        return \"Meow!\"\n"
      ],
      "metadata": {
        "id": "to9DI5CM9Kmi"
      },
      "execution_count": 18,
      "outputs": []
    },
    {
      "cell_type": "markdown",
      "source": [
        "24. What is method chaining in Python OOP?\n",
        "    - Method chaining allows multiple methods to be called on the same object in a single line."
      ],
      "metadata": {
        "id": "xa7Pa18A9Rcx"
      }
    },
    {
      "cell_type": "code",
      "source": [
        "# Example:\n",
        "class Example:\n",
        "    def method1(self):\n",
        "        print(\"Method 1\")\n",
        "        return self\n",
        "\n",
        "    def method2(self):\n",
        "        print(\"Method 2\")\n",
        "        return self\n",
        "\n",
        "obj = Example().method1().method2()\n"
      ],
      "metadata": {
        "colab": {
          "base_uri": "https://localhost:8080/"
        },
        "id": "uzHjw36y9VPl",
        "outputId": "df2a1b43-42df-4f1a-df75-220125070764"
      },
      "execution_count": 19,
      "outputs": [
        {
          "output_type": "stream",
          "name": "stdout",
          "text": [
            "Method 1\n",
            "Method 2\n"
          ]
        }
      ]
    },
    {
      "cell_type": "markdown",
      "source": [
        "25. What is the purpose of the __call__ method in Python?\n",
        "    - The __call__ method allows an object to be called like a function."
      ],
      "metadata": {
        "id": "sku9FzpN9aiQ"
      }
    },
    {
      "cell_type": "code",
      "source": [
        "# Example:\n",
        "class Example:\n",
        "    def __call__(self):\n",
        "        return \"Object called\"\n",
        "\n",
        "obj = Example()\n",
        "print(obj())  # Calls __call__ method\n"
      ],
      "metadata": {
        "colab": {
          "base_uri": "https://localhost:8080/"
        },
        "id": "27m6wUz49h8q",
        "outputId": "f2ec820e-c291-40e4-e006-d595099954c9"
      },
      "execution_count": 20,
      "outputs": [
        {
          "output_type": "stream",
          "name": "stdout",
          "text": [
            "Object called\n"
          ]
        }
      ]
    },
    {
      "cell_type": "markdown",
      "source": [
        "# **Practical Questions:-**"
      ],
      "metadata": {
        "id": "sHSBDG4f9w2u"
      }
    },
    {
      "cell_type": "code",
      "source": [
        "# 1. Create a parent class Animal with a method speak() that prints a generic\n",
        "# message. Create a child class Dog that overrides the speak() method to print\n",
        "# \"Bark!\"?\n",
        "class Animal:\n",
        "    def speak(self):\n",
        "        print(\"This is an animal.\")\n",
        "\n",
        "class Dog(Animal):\n",
        "    def speak(self):\n",
        "        print(\"Bark!\")\n",
        "\n",
        "# Testing the classes\n",
        "a = Animal()\n",
        "a.speak()\n",
        "\n",
        "d = Dog()\n",
        "d.speak()\n",
        "\n",
        "\n",
        "# 2. Write a program to create an abstract class Shape with a method area().\n",
        "# Derive classes Circle and Rectangle from it and implement the area() method in\n",
        "# both?\n",
        "from abc import ABC, abstractmethod\n",
        "\n",
        "class Shape(ABC):\n",
        "    @abstractmethod\n",
        "    def area(self):\n",
        "        pass\n",
        "\n",
        "class Circle(Shape):\n",
        "    def __init__(self, radius):\n",
        "        self.radius = radius\n",
        "\n",
        "    def area(self):\n",
        "        return 3.14 * self.radius * self.radius\n",
        "\n",
        "class Rectangle(Shape):\n",
        "    def __init__(self, length, width):\n",
        "        self.length = length\n",
        "        self.width = width\n",
        "\n",
        "    def area(self):\n",
        "        return self.length * self.width\n",
        "\n",
        "# Testing\n",
        "c = Circle(5)\n",
        "print(\"Circle Area:\", c.area())\n",
        "\n",
        "r = Rectangle(4, 6)\n",
        "print(\"Rectangle Area:\", r.area())\n",
        "\n",
        "# 3. Implement a multi-level inheritance scenario where a class Vehicle\n",
        "# has an attribute type. Derive a class Car and further derive a class\n",
        "# ElectricCar that adds a battery attribute?\n",
        "class Vehicle:\n",
        "    def __init__(self, type):\n",
        "        self.type = type\n",
        "\n",
        "class Car(Vehicle):\n",
        "    def __init__(self, brand, type=\"Car\"):\n",
        "        super().__init__(type)\n",
        "        self.brand = brand\n",
        "\n",
        "class ElectricCar(Car):\n",
        "    def __init__(self, brand, battery, type=\"Electric Car\"):\n",
        "        super().__init__(brand, type)\n",
        "        self.battery = battery\n",
        "\n",
        "# Testing\n",
        "e_car = ElectricCar(\"Tesla\", \"75 kWh\")\n",
        "print(f\"Type: {e_car.type}, Brand: {e_car.brand}, Battery: {e_car.battery}\")\n",
        "\n",
        "# 4. Demonstrate polymorphism by creating a base class Bird with a method fly().\n",
        "# Create two derived classes Sparrow and Penguin that override the fly() method?\n",
        "class Bird:\n",
        "    def fly(self):\n",
        "        print(\"Some birds can fly.\")\n",
        "\n",
        "class Sparrow(Bird):\n",
        "    def fly(self):\n",
        "        print(\"Sparrow flies high.\")\n",
        "\n",
        "class Penguin(Bird):\n",
        "    def fly(self):\n",
        "        print(\"Penguins cannot fly, but they swim.\")\n",
        "\n",
        "# Testing\n",
        "s = Sparrow()\n",
        "s.fly()\n",
        "\n",
        "p = Penguin()\n",
        "p.fly()\n",
        "\n",
        "# 5. Write a program to demonstrate encapsulation by creating a class\n",
        "# BankAccount with private attributes balance and methods to deposit, withdraw,\n",
        "# and check_balance()?\n",
        "class BankAccount:\n",
        "    def __init__(self, owner, balance=0):\n",
        "        self.owner = owner\n",
        "        self.__balance = balance\n",
        "\n",
        "    def deposit(self, amount):\n",
        "        self.__balance += amount\n",
        "        print(f\"{amount} deposited. New balance: {self.__balance}\")\n",
        "\n",
        "    def withdraw(self, amount):\n",
        "        if amount > self.__balance:\n",
        "            print(\"Insufficient funds!\")\n",
        "        else:\n",
        "            self.__balance -= amount\n",
        "            print(f\"{amount} withdrawn. New balance: {self.__balance}\")\n",
        "\n",
        "    def check_balance(self):\n",
        "        print(f\"Current balance: {self.__balance}\")\n",
        "\n",
        "# Testing\n",
        "acc = BankAccount(\"John\", 500)\n",
        "acc.deposit(300)\n",
        "acc.withdraw(200)\n",
        "acc.check_balance()\n",
        "\n",
        "# 6. Demonstrate runtime polymorphism using a method play() in a base class\n",
        "# Instrument. Derive classes Guitar and Piano that implement their own version\n",
        "# of play()?\n",
        "class Instrument:\n",
        "    def play(self):\n",
        "        print(\"Instrument is playing.\")\n",
        "\n",
        "class Guitar(Instrument):\n",
        "    def play(self):\n",
        "        print(\"Guitar is playing.\")\n",
        "\n",
        "class Piano(Instrument):\n",
        "    def play(self):\n",
        "        print(\"Piano is playing.\")\n",
        "\n",
        "# Testing\n",
        "g = Guitar()\n",
        "g.play()\n",
        "\n",
        "p = Piano()\n",
        "p.play()\n",
        "\n",
        "# 7. Create a class MathOperations with a class method add_numbers() to add two\n",
        "# numbers and a static method subtract_numbers() to subtract two numbers?\n",
        "class MathOperations:\n",
        "    @classmethod\n",
        "    def add_numbers(cls, a, b):\n",
        "        return a + b\n",
        "\n",
        "    @staticmethod\n",
        "    def subtract_numbers(a, b):\n",
        "        return a - b\n",
        "\n",
        "# Testing\n",
        "print(\"Addition:\", MathOperations.add_numbers(10, 5))\n",
        "print(\"Subtraction:\", MathOperations.subtract_numbers(10, 5))\n",
        "\n",
        "# 8. Implement a class Person with a class method to count the total number of\n",
        "# persons created?\n",
        "class Person:\n",
        "    count = 0  # Class variable to track number of persons\n",
        "\n",
        "    def __init__(self, name):\n",
        "        self.name = name\n",
        "        Person.count += 1\n",
        "\n",
        "    @classmethod\n",
        "    def total_persons(cls):\n",
        "        return cls.count\n",
        "\n",
        "# Testing\n",
        "p1 = Person(\"Alice\")\n",
        "p2 = Person(\"Bob\")\n",
        "print(\"Total Persons Created:\", Person.total_persons())\n",
        "\n",
        "# 9. Write a class Fraction with attributes numerator and denominator. Override\n",
        "# the __str__ method to display the fraction as \"numerator/denominator\"?\n",
        "class Fraction:\n",
        "    def __init__(self, numerator, denominator):\n",
        "        self.numerator = numerator\n",
        "        self.denominator = denominator\n",
        "\n",
        "    def __str__(self):\n",
        "        return f\"{self.numerator}/{self.denominator}\"\n",
        "\n",
        "# Testing\n",
        "frac = Fraction(3, 4)\n",
        "print(\"Fraction:\", frac)\n",
        "\n",
        "# 10. Demonstrate operator overloading by creating a class Vector and overriding\n",
        "# the __add__ method to add two vectors?\n",
        "class Vector:\n",
        "    def __init__(self, x, y):\n",
        "        self.x = x\n",
        "        self.y = y\n",
        "\n",
        "    def __add__(self, other):\n",
        "        return Vector(self.x + other.x, self.y + other.y)\n",
        "\n",
        "    def __str__(self):\n",
        "        return f\"({self.x}, {self.y})\"\n",
        "\n",
        "# Testing\n",
        "v1 = Vector(2, 3)\n",
        "v2 = Vector(4, 5)\n",
        "v3 = v1 + v2\n",
        "print(\"Resultant Vector:\", v3)\n",
        "\n",
        "# 11. Create a class Person with attributes name and age. Add a method greet()\n",
        "# that prints \"Hello, my name is {name} and I am {age} years old.\"?\n",
        "class Person:\n",
        "    def __init__(self, name, age):\n",
        "        self.name = name\n",
        "        self.age = age\n",
        "\n",
        "    def greet(self):\n",
        "        print(f\"Hello, my name is {self.name} and I am {self.age} years old.\")\n",
        "\n",
        "# Testing\n",
        "p = Person(\"John\", 25)\n",
        "p.greet()\n",
        "\n",
        "# 12. Implement a class Student with attributes name and grades. Create a method\n",
        "# average_grade() to compute the average of the grades?\n",
        "class Student:\n",
        "    def __init__(self, name, grades):\n",
        "        self.name = name\n",
        "        self.grades = grades\n",
        "\n",
        "    def average_grade(self):\n",
        "        return sum(self.grades) / len(self.grades)\n",
        "\n",
        "# Testing\n",
        "s = Student(\"Emma\", [85, 90, 78, 92])\n",
        "print(f\"Average Grade of {s.name}:\", s.average_grade())\n",
        "\n",
        "# 13. Create a class Rectangle with methods set_dimensions() to set the\n",
        "# dimensions and area() to calculate the area?\n",
        "class Rectangle:\n",
        "    def __init__(self):\n",
        "        self.length = 0\n",
        "        self.width = 0\n",
        "\n",
        "    def set_dimensions(self, length, width):\n",
        "        self.length = length\n",
        "        self.width = width\n",
        "\n",
        "    def area(self):\n",
        "        return self.length * self.width\n",
        "\n",
        "# Testing\n",
        "rect = Rectangle()\n",
        "rect.set_dimensions(4, 6)\n",
        "print(\"Rectangle Area:\", rect.area())\n",
        "\n",
        "# 14. Create a class Employee with a method calculate_salary() that computes\n",
        "# the salary based on hours worked and hourly rate. Create a derived class\n",
        "# Manager that adds a bonus to the salary?\n",
        "class Employee:\n",
        "    def __init__(self, name, hours_worked, hourly_rate):\n",
        "        self.name = name\n",
        "        self.hours_worked = hours_worked\n",
        "        self.hourly_rate = hourly_rate\n",
        "\n",
        "    def calculate_salary(self):\n",
        "        return self.hours_worked * self.hourly_rate\n",
        "\n",
        "class Manager(Employee):\n",
        "    def __init__(self, name, hours_worked, hourly_rate, bonus):\n",
        "        super().__init__(name, hours_worked, hourly_rate)\n",
        "        self.bonus = bonus\n",
        "\n",
        "    def calculate_salary(self):\n",
        "        return super().calculate_salary() + self.bonus\n",
        "\n",
        "# Testing\n",
        "emp = Employee(\"John\", 40, 20)\n",
        "mgr = Manager(\"Alice\", 40, 30, 500)\n",
        "\n",
        "print(f\"{emp.name}'s Salary:\", emp.calculate_salary())\n",
        "print(f\"{mgr.name}'s Salary:\", mgr.calculate_salary())\n",
        "\n",
        "\n",
        "\n",
        "\n",
        "\n",
        "\n",
        "\n",
        "\n",
        "\n",
        "\n"
      ],
      "metadata": {
        "colab": {
          "base_uri": "https://localhost:8080/"
        },
        "id": "ODW0mEoz93e4",
        "outputId": "83a9437d-5e2f-4215-fa4a-a0be03c9b4d5"
      },
      "execution_count": 36,
      "outputs": [
        {
          "output_type": "stream",
          "name": "stdout",
          "text": [
            "This is an animal.\n",
            "Bark!\n",
            "Circle Area: 78.5\n",
            "Rectangle Area: 24\n",
            "Type: Electric Car, Brand: Tesla, Battery: 75 kWh\n",
            "Sparrow flies high.\n",
            "Penguins cannot fly, but they swim.\n",
            "300 deposited. New balance: 800\n",
            "200 withdrawn. New balance: 600\n",
            "Current balance: 600\n",
            "Guitar is playing.\n",
            "Piano is playing.\n",
            "Addition: 15\n",
            "Subtraction: 5\n",
            "Total Persons Created: 2\n",
            "Fraction: 3/4\n",
            "Resultant Vector: (6, 8)\n",
            "Hello, my name is John and I am 25 years old.\n",
            "Average Grade of Emma: 86.25\n",
            "Rectangle Area: 24\n",
            "John's Salary: 800\n",
            "Alice's Salary: 1700\n"
          ]
        }
      ]
    }
  ]
}